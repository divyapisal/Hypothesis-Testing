{
 "cells": [
  {
   "cell_type": "code",
   "execution_count": 204,
   "metadata": {
    "collapsed": true
   },
   "outputs": [],
   "source": [
    "#Importing all required libraries\n",
    "import pandas as pd\n",
    "import numpy as np\n",
    "from statsmodels.formula.api import ols\n",
    "import statsmodels.formula.api as sm\n",
    "import matplotlib.pyplot as plt\n",
    "from pandas.plotting import scatter_matrix\n",
    "import seaborn as sns\n",
    "\n",
    "#read csv file and select only required columns\n",
    "df = pd.read_csv('/Users/divyapisal/Downloads/Compustat 1990-2014.csv', \n",
    "            index_col= ['tic'], \n",
    "            parse_dates =['fyear'], \n",
    "            header = 0,   \n",
    "            usecols = ['fyear','tic', 'dltt', 'oancf', 'ta'])\n"
   ]
  },
  {
   "cell_type": "markdown",
   "metadata": {},
   "source": [
    "### Calculating Debt ratio and Cash flow volatility\n",
    "\n",
    "To measure the cash flow volatility I have selected the operating casn flows (oancf) instead of earnings before income tax because:\n",
    "1. EBIT is not a standard matrix according to GAAP.\n",
    "2. EBIT fails to account for alternative approaches in capital expenditures, hence might give an inflated value for cash flows."
   ]
  },
  {
   "cell_type": "code",
   "execution_count": 218,
   "metadata": {
    "collapsed": true
   },
   "outputs": [],
   "source": [
    "#Calculations of required matrices\n",
    "df['debt_ratio'] = df['dltt']/df['ta']\n",
    "df['debt_ratio'] = df.groupby(['tic'])['debt_ratio'].mean()\n",
    "df['cf_volatility'] = df.groupby('tic')['oancf'].std()\n",
    "\n",
    "#Data cleaning\n",
    "df.replace([\"NaN\", 'NaT', np.inf], np.nan, inplace = True)\n",
    "df = df.dropna()\n",
    "data = df[['debt_ratio','cf_volatility']]\n",
    "data = data[~data.index.duplicated(keep = 'first')]"
   ]
  },
  {
   "cell_type": "markdown",
   "metadata": {},
   "source": [
    "### Correlation matrix\n",
    "\n",
    "There are two key components of a correlation value:\n",
    "\n",
    "1. magnitude – The larger the magnitude (closer to 1 or -1), the stronger the correlation\n",
    "2. sign – If negative, there is an inverse correlation. If positive, there is a regular correlation."
   ]
  },
  {
   "cell_type": "code",
   "execution_count": 202,
   "metadata": {},
   "outputs": [
    {
     "data": {
      "text/html": [
       "<div>\n",
       "<style>\n",
       "    .dataframe thead tr:only-child th {\n",
       "        text-align: right;\n",
       "    }\n",
       "\n",
       "    .dataframe thead th {\n",
       "        text-align: left;\n",
       "    }\n",
       "\n",
       "    .dataframe tbody tr th {\n",
       "        vertical-align: top;\n",
       "    }\n",
       "</style>\n",
       "<table border=\"1\" class=\"dataframe\">\n",
       "  <thead>\n",
       "    <tr style=\"text-align: right;\">\n",
       "      <th></th>\n",
       "      <th>debt_ratio</th>\n",
       "      <th>cf_volatility</th>\n",
       "    </tr>\n",
       "  </thead>\n",
       "  <tbody>\n",
       "    <tr>\n",
       "      <th>debt_ratio</th>\n",
       "      <td>1.000000</td>\n",
       "      <td>-0.003394</td>\n",
       "    </tr>\n",
       "    <tr>\n",
       "      <th>cf_volatility</th>\n",
       "      <td>-0.003394</td>\n",
       "      <td>1.000000</td>\n",
       "    </tr>\n",
       "  </tbody>\n",
       "</table>\n",
       "</div>"
      ],
      "text/plain": [
       "               debt_ratio  cf_volatility\n",
       "debt_ratio       1.000000      -0.003394\n",
       "cf_volatility   -0.003394       1.000000"
      ]
     },
     "execution_count": 202,
     "metadata": {},
     "output_type": "execute_result"
    }
   ],
   "source": [
    "#Correlation method used is Pearson\n",
    "data.corr(method='pearson')"
   ]
  },
  {
   "cell_type": "markdown",
   "metadata": {},
   "source": [
    "The correlation matrix indicates that correlation coefficient between the debt ratio and volatility of cash flows is close to neither -1 nor 1, which means that there is little to no correlation between the debt and the cash flow volatility"
   ]
  },
  {
   "cell_type": "markdown",
   "metadata": {},
   "source": [
    "**Scatter plot**"
   ]
  },
  {
   "cell_type": "code",
   "execution_count": 198,
   "metadata": {},
   "outputs": [
    {
     "data": {
      "image/png": "[encoded data removed]",
      "text/plain": [
       "<matplotlib.figure.Figure at 0x1a3acf6f98>"
      ]
     },
     "metadata": {},
     "output_type": "display_data"
    }
   ],
   "source": [
    "plt.scatter(data['debt_ratio'], data['cf_volatility'])\n",
    "plt.show()"
   ]
  },
  {
   "cell_type": "markdown",
   "metadata": {},
   "source": [
    "The scatter plot indicates that there is no relationship between the debt ratio and the cash flow volatility as indicated by the correlation matrix"
   ]
  },
  {
   "cell_type": "markdown",
   "metadata": {},
   "source": [
    "**Correlation plot**"
   ]
  },
  {
   "cell_type": "code",
   "execution_count": 220,
   "metadata": {},
   "outputs": [
    {
     "data": {
      "image/png": "[encoded data removed]",
      "text/plain": [
       "<matplotlib.figure.Figure at 0x1a22baecc0>"
      ]
     },
     "metadata": {},
     "output_type": "display_data"
    }
   ],
   "source": [
    "plt.xcorr(data['debt_ratio'], data['cf_volatility'], maxlags=9, usevlines=True)\n",
    "plt.title('Debt Ratio vs. Cash Flow Volatility')\n",
    "plt.xlabel('Debt ratio')\n",
    "plt.ylabel('Cash Volatility')    \n",
    "plt.show()"
   ]
  },
  {
   "cell_type": "markdown",
   "metadata": {},
   "source": [
    "The correlation plot too fails to show any relationship between the debt ratio and the cash flow volatility"
   ]
  },
  {
   "cell_type": "markdown",
   "metadata": {},
   "source": [
    "**Line Plot**"
   ]
  },
  {
   "cell_type": "code",
   "execution_count": 222,
   "metadata": {},
   "outputs": [
    {
     "data": {
      "image/png": "[encoded data removed]",
      "text/plain": [
       "<matplotlib.figure.Figure at 0x1a2c7c50f0>"
      ]
     },
     "metadata": {},
     "output_type": "display_data"
    }
   ],
   "source": [
    "plt.plot(data['debt_ratio'],data['cf_volatility'])\n",
    "plt.xlim(0,50)\n",
    "plt.ylim(0,3000)\n",
    "plt.show()"
   ]
  },
  {
   "cell_type": "markdown",
   "metadata": {},
   "source": [
    "This plot too shows that the there is no directly proportional relationship between cash flow volatility and the debt of a firm."
   ]
  },
  {
   "cell_type": "markdown",
   "metadata": {},
   "source": [
    "# Conclusion\n",
    "\n",
    "The hypothesis, \"the greater a firm's debt, the greater it's volatility of cash flows\" is hence proved wrong using the correlation matrix as well as different forms of data visualizations."
   ]
  }
 ],
 "metadata": {
  "kernelspec": {
   "display_name": "Python 3",
   "language": "python",
   "name": "python3"
  },
  "language_info": {
   "codemirror_mode": {
    "name": "ipython",
    "version": 3
   },
   "file_extension": ".py",
   "mimetype": "text/x-python",
   "name": "python",
   "nbconvert_exporter": "python",
   "pygments_lexer": "ipython3",
   "version": "3.6.2"
  }
 },
 "nbformat": 4,
 "nbformat_minor": 2
}
